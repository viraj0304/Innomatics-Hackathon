{
 "cells": [
  {
   "cell_type": "code",
   "execution_count": 1,
   "id": "73e216a5",
   "metadata": {},
   "outputs": [],
   "source": [
    "import numpy as np \n",
    "import pandas as pd\n",
    "from sklearn.model_selection import train_test_split\n",
    "from sklearn.tree import DecisionTreeClassifier\n",
    "from sklearn.metrics import accuracy_score,classification_report,confusion_matrix,ConfusionMatrixDisplay"
   ]
  },
  {
   "cell_type": "code",
   "execution_count": 2,
   "id": "a88b998e",
   "metadata": {},
   "outputs": [],
   "source": [
    "df=pd.read_csv(r\"C:\\Users\\viraj\\Desktop\\movie_data\\movies.csv\")"
   ]
  },
  {
   "cell_type": "code",
   "execution_count": 3,
   "id": "4cb8b09f",
   "metadata": {},
   "outputs": [
    {
     "data": {
      "text/plain": [
       "(9742, 3)"
      ]
     },
     "execution_count": 3,
     "metadata": {},
     "output_type": "execute_result"
    }
   ],
   "source": [
    "df.shape"
   ]
  },
  {
   "cell_type": "code",
   "execution_count": 4,
   "id": "5ebf1cea",
   "metadata": {},
   "outputs": [],
   "source": [
    "df=pd.read_csv(r\"C:\\Users\\viraj\\Desktop\\movie_data\\ratings.csv\")"
   ]
  },
  {
   "cell_type": "code",
   "execution_count": 5,
   "id": "bc35a47d",
   "metadata": {},
   "outputs": [
    {
     "data": {
      "text/plain": [
       "(100836, 4)"
      ]
     },
     "execution_count": 5,
     "metadata": {},
     "output_type": "execute_result"
    }
   ],
   "source": [
    "df.shape"
   ]
  },
  {
   "cell_type": "code",
   "execution_count": 8,
   "id": "0f5cf825",
   "metadata": {},
   "outputs": [
    {
     "name": "stdout",
     "output_type": "stream",
     "text": [
      "unique userId: 610\n"
     ]
    }
   ],
   "source": [
    "uq_you_ids=df['userId'].nunique()\n",
    "\n",
    "print(\"unique userId:\", uq_you_ids)\n"
   ]
  },
  {
   "cell_type": "code",
   "execution_count": 9,
   "id": "21ec6428",
   "metadata": {},
   "outputs": [
    {
     "name": "stdout",
     "output_type": "stream",
     "text": [
      "max no of rating: Forrest Gump (1994)\n"
     ]
    }
   ],
   "source": [
    "movi_rate_cnt=df.groupby('movieId')['rating'].count()\n",
    "\n",
    "max_rat_movi_id=movi_rate_cnt.idxmax()\n",
    "\n",
    "df=pd.read_csv(r\"C:\\Users\\viraj\\Desktop\\movie_data\\movies.csv\")\n",
    "\n",
    "max_rat_movi=df[df['movieId']==max_rat_movi_id]['title'].values[0]\n",
    "\n",
    "print(\"max no of rating:\", max_rat_movi)\n"
   ]
  },
  {
   "cell_type": "code",
   "execution_count": 11,
   "id": "1cc24d30",
   "metadata": {},
   "outputs": [
    {
     "name": "stdout",
     "output_type": "stream",
     "text": [
      "tgs sbmtd by urs to 'Matrix, The (1999)':\n",
      "['martial arts' 'sci-fi' 'alternate universe' 'philosophy'\n",
      " 'post apocalyptic']\n"
     ]
    }
   ],
   "source": [
    "df1=pd.read_csv(r\"C:\\Users\\viraj\\Desktop\\movie_data\\movies.csv\")\n",
    "\n",
    "df=pd.read_csv(r\"C:\\Users\\viraj\\Desktop\\movie_data\\tags.csv\")\n",
    "\n",
    "mx_movi_id=df1[(df1['title']=='Matrix,The(1999)')]['movieId'].values[0]\n",
    "\n",
    "mx_tgs=df[df['movieId']==mx_movi_id]['tag']\n",
    "\n",
    "print(\"tgs sbmtd by urs to 'Matrix,The(1999)':\")\n",
    "print(mx_tgs.unique())\n"
   ]
  },
  {
   "cell_type": "code",
   "execution_count": 18,
   "id": "f142fa3a",
   "metadata": {},
   "outputs": [
    {
     "name": "stdout",
     "output_type": "stream",
     "text": [
      "avg usr rtg for 'Terminator 2: Judgment Day (1991)': 3.970982142857143\n"
     ]
    }
   ],
   "source": [
    "df=pd.read_csv(r\"C:\\Users\\viraj\\Desktop\\movie_data\\ratings.csv\")\n",
    "\n",
    "df1=pd.read_csv(r\"C:\\Users\\viraj\\Desktop\\movie_data\\movies.csv\")\n",
    "\n",
    "trm_movi_id=df1[(df1['title']=='Terminator 2: Judgment Day (1991)')]['movieId'].values[0]\n",
    "\n",
    "trm_rtgs=df[df['movieId']==trm_movi_id]\n",
    "\n",
    "avg_rtg=trm_rtgs['rating'].mean()\n",
    "\n",
    "print(\"avg usr rtg for 'Terminator 2: Judgment Day (1991)':\", avg_rtg)"
   ]
  },
  {
   "cell_type": "code",
   "execution_count": 24,
   "id": "c158ee92",
   "metadata": {},
   "outputs": [
    {
     "name": "stdout",
     "output_type": "stream",
     "text": [
      "high imdb rtgs: 109374\n"
     ]
    }
   ],
   "source": [
    "df=pd.read_csv(r\"C:\\Users\\viraj\\Desktop\\movie_data\\ratings.csv\")\n",
    "\n",
    "df1=pd.read_csv(r\"C:\\Users\\viraj\\Desktop\\movie_data\\links.csv\")\n",
    "\n",
    "avg_rtgs=df.groupby('movieId')['rating'].agg(['count', 'mean']).reset_index()\n",
    "\n",
    "plr_movis= avg_rtgs[avg_rtgs['count']>50]\n",
    "\n",
    "df3=pd.merge(plr_movis,df1,on='movieId',how='inner')\n",
    "\n",
    "high_imdb_movi=df3.nlargest(1,'imdbId')\n",
    "\n",
    "print(\"high imdb rtgs:\",high_imdb_movi['movieId'].values[0])\n"
   ]
  },
  {
   "cell_type": "code",
   "execution_count": null,
   "id": "fd0b5bae",
   "metadata": {},
   "outputs": [],
   "source": []
  },
  {
   "cell_type": "code",
   "execution_count": null,
   "id": "3363ae1c",
   "metadata": {},
   "outputs": [],
   "source": []
  },
  {
   "cell_type": "code",
   "execution_count": null,
   "id": "e62ee8c9",
   "metadata": {},
   "outputs": [],
   "source": []
  }
 ],
 "metadata": {
  "kernelspec": {
   "display_name": "Python 3 (ipykernel)",
   "language": "python",
   "name": "python3"
  },
  "language_info": {
   "codemirror_mode": {
    "name": "ipython",
    "version": 3
   },
   "file_extension": ".py",
   "mimetype": "text/x-python",
   "name": "python",
   "nbconvert_exporter": "python",
   "pygments_lexer": "ipython3",
   "version": "3.11.5"
  }
 },
 "nbformat": 4,
 "nbformat_minor": 5
}
